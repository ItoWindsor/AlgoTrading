{
 "cells": [
  {
   "cell_type": "code",
   "execution_count": 5,
   "id": "initial_id",
   "metadata": {
    "collapsed": true,
    "ExecuteTime": {
     "end_time": "2023-09-03T12:33:48.547785600Z",
     "start_time": "2023-09-03T12:33:48.526488400Z"
    }
   },
   "outputs": [],
   "source": [
    "import src.enumerate_classes as enumcls"
   ]
  },
  {
   "cell_type": "code",
   "execution_count": 6,
   "outputs": [
    {
     "data": {
      "text/plain": "['log return 1d', 'log return 5d']"
     },
     "execution_count": 6,
     "metadata": {},
     "output_type": "execute_result"
    }
   ],
   "source": [
    "enumcls.get_list_enum_values(enumcls.indicators)"
   ],
   "metadata": {
    "collapsed": false,
    "ExecuteTime": {
     "end_time": "2023-09-03T12:33:48.695545Z",
     "start_time": "2023-09-03T12:33:48.678234800Z"
    }
   },
   "id": "aa6467e1847532c3"
  },
  {
   "cell_type": "code",
   "execution_count": 8,
   "outputs": [
    {
     "name": "stdout",
     "output_type": "stream",
     "text": [
      "indicators.log_return_1d\n"
     ]
    }
   ],
   "source": [
    "test = enumcls.get_list_enum(enumcls.indicators)[0]\n",
    "print(test)"
   ],
   "metadata": {
    "collapsed": false,
    "ExecuteTime": {
     "end_time": "2023-09-03T12:33:53.211087300Z",
     "start_time": "2023-09-03T12:33:53.151225200Z"
    }
   },
   "id": "20308689db89e6bf"
  },
  {
   "cell_type": "code",
   "execution_count": 6,
   "outputs": [
    {
     "data": {
      "text/plain": "enum.EnumMeta"
     },
     "execution_count": 6,
     "metadata": {},
     "output_type": "execute_result"
    }
   ],
   "source": [
    "type(enumcls.indicators)"
   ],
   "metadata": {
    "collapsed": false,
    "ExecuteTime": {
     "end_time": "2023-09-03T11:40:18.870659600Z",
     "start_time": "2023-09-03T11:40:18.857626800Z"
    }
   },
   "id": "f838f74943e66a19"
  },
  {
   "cell_type": "code",
   "execution_count": 7,
   "outputs": [],
   "source": [
    "element = 'log return 1d'\n",
    "element2 = 'log return 2d'"
   ],
   "metadata": {
    "collapsed": false,
    "ExecuteTime": {
     "end_time": "2023-09-03T11:40:19.411360Z",
     "start_time": "2023-09-03T11:40:19.391363900Z"
    }
   },
   "id": "fb603d133b5f91dd"
  },
  {
   "cell_type": "code",
   "execution_count": 10,
   "outputs": [
    {
     "name": "stdout",
     "output_type": "stream",
     "text": [
      "log return 1d in indicators : True\n",
      "log return 2d in indicators : False\n"
     ]
    }
   ],
   "source": [
    "print(f\"{element} in indicators : {enumcls.check_element(element, enumcls.indicators)}\")\n",
    "print(f\"{element2} in indicators : {enumcls.check_element(element2, enumcls.indicators)}\")"
   ],
   "metadata": {
    "collapsed": false,
    "ExecuteTime": {
     "end_time": "2023-09-03T11:40:37.848114200Z",
     "start_time": "2023-09-03T11:40:37.831128400Z"
    }
   },
   "id": "26eb7ee5e6d63d06"
  },
  {
   "cell_type": "code",
   "execution_count": 11,
   "outputs": [
    {
     "name": "stdout",
     "output_type": "stream",
     "text": [
      "<class 'tuple'>\n"
     ]
    }
   ],
   "source": [
    "temp = ('AAPL','DIX')\n",
    "print(type(temp))"
   ],
   "metadata": {
    "collapsed": false,
    "ExecuteTime": {
     "end_time": "2023-09-03T12:03:37.434545600Z",
     "start_time": "2023-09-03T12:03:37.415210200Z"
    }
   },
   "id": "9d2b2dd8c6bdb399"
  },
  {
   "cell_type": "code",
   "execution_count": null,
   "outputs": [],
   "source": [],
   "metadata": {
    "collapsed": false
   },
   "id": "9b970bde78fe2a33"
  }
 ],
 "metadata": {
  "kernelspec": {
   "display_name": "Python 3",
   "language": "python",
   "name": "python3"
  },
  "language_info": {
   "codemirror_mode": {
    "name": "ipython",
    "version": 2
   },
   "file_extension": ".py",
   "mimetype": "text/x-python",
   "name": "python",
   "nbconvert_exporter": "python",
   "pygments_lexer": "ipython2",
   "version": "2.7.6"
  }
 },
 "nbformat": 4,
 "nbformat_minor": 5
}
