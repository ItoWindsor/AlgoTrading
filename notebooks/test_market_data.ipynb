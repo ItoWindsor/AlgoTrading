{
 "cells": [
  {
   "cell_type": "code",
   "execution_count": 1,
   "id": "initial_id",
   "metadata": {
    "collapsed": true,
    "ExecuteTime": {
     "end_time": "2023-09-03T15:02:08.344093400Z",
     "start_time": "2023-09-03T15:02:02.267848100Z"
    }
   },
   "outputs": [],
   "source": [
    "import src.marketdata as marketdata\n",
    "import numpy as np\n",
    "import pandas as pd"
   ]
  },
  {
   "cell_type": "code",
   "execution_count": 2,
   "outputs": [],
   "source": [
    "market = marketdata.Marketdata(tickers = (\"AAPL\",\"JPM\",\"AMZN\",\"DIS\",\"XOM\"))"
   ],
   "metadata": {
    "collapsed": false,
    "ExecuteTime": {
     "end_time": "2023-09-03T15:02:08.661080Z",
     "start_time": "2023-09-03T15:02:08.279086600Z"
    }
   },
   "id": "acc3821fb380e78d"
  },
  {
   "cell_type": "code",
   "execution_count": 3,
   "outputs": [
    {
     "name": "stdout",
     "output_type": "stream",
     "text": [
      "4152     0.000000\n",
      "4153    -0.028571\n",
      "4154    -0.014602\n",
      "4155     0.014602\n",
      "4156    -0.021979\n",
      "           ...   \n",
      "10755    0.000338\n",
      "10756    0.009349\n",
      "10757   -0.011264\n",
      "10758   -0.004971\n",
      "10759   -0.014662\n",
      "Name: log return 1d - AAPL, Length: 6608, dtype: float64\n",
      "4152     0.000000\n",
      "4153    -0.036702\n",
      "4154    -0.010738\n",
      "4155     0.040983\n",
      "4156    -0.035600\n",
      "           ...   \n",
      "10755    0.005779\n",
      "10756    0.002070\n",
      "10757   -0.025787\n",
      "10758   -0.004252\n",
      "10759   -0.010441\n",
      "Name: log return 1d - JPM, Length: 6608, dtype: float64\n",
      "4152     0.000000\n",
      "4153    -0.124461\n",
      "4154    -0.012114\n",
      "4155    -0.043622\n",
      "4156    -0.136269\n",
      "           ...   \n",
      "10755   -0.001083\n",
      "10756    0.015485\n",
      "10757   -0.020846\n",
      "10758   -0.019066\n",
      "10759   -0.008103\n",
      "Name: log return 1d - AMZN, Length: 6608, dtype: float64\n",
      "4152     0.000000\n",
      "4153    -0.024429\n",
      "4154     0.028943\n",
      "4155     0.002998\n",
      "4156    -0.016604\n",
      "           ...   \n",
      "10755   -0.030315\n",
      "10756   -0.002362\n",
      "10757   -0.019902\n",
      "10758   -0.008189\n",
      "10759   -0.004992\n",
      "Name: log return 1d - DIS, Length: 6608, dtype: float64\n",
      "4152     0.000000\n",
      "4153    -0.012821\n",
      "4154     0.017058\n",
      "4155     0.000000\n",
      "4156     0.006322\n",
      "           ...   \n",
      "10755    0.015409\n",
      "10756    0.000804\n",
      "10757   -0.026009\n",
      "10758   -0.016970\n",
      "10759    0.019187\n",
      "Name: log return 1d - XOM, Length: 6608, dtype: float64\n"
     ]
    }
   ],
   "source": [
    "df = market.get_data()"
   ],
   "metadata": {
    "collapsed": false,
    "ExecuteTime": {
     "end_time": "2023-09-03T15:02:08.791094800Z",
     "start_time": "2023-09-03T15:02:08.662092200Z"
    }
   },
   "id": "c5918bc664504077"
  },
  {
   "cell_type": "code",
   "execution_count": 5,
   "outputs": [
    {
     "data": {
      "text/plain": "            Date  log return 1d - AAPL  log return 1d - JPM  \\\n4152  1997-05-15              0.000000             0.000000   \n4153  1997-05-16             -0.028571            -0.036702   \n4154  1997-05-19             -0.014602            -0.010738   \n4155  1997-05-20              0.014602             0.040983   \n4156  1997-05-21             -0.021979            -0.035600   \n...          ...                   ...                  ...   \n10755 2023-08-11              0.000338             0.005779   \n10756 2023-08-14              0.009349             0.002070   \n10757 2023-08-15             -0.011264            -0.025787   \n10758 2023-08-16             -0.004971            -0.004252   \n10759 2023-08-17             -0.014662            -0.010441   \n\n       log return 1d - AMZN  log return 1d - DIS  log return 1d - XOM  \n4152               0.000000             0.000000             0.000000  \n4153              -0.124461            -0.024429            -0.012821  \n4154              -0.012114             0.028943             0.017058  \n4155              -0.043622             0.002998             0.000000  \n4156              -0.136269            -0.016604             0.006322  \n...                     ...                  ...                  ...  \n10755             -0.001083            -0.030315             0.015409  \n10756              0.015485            -0.002362             0.000804  \n10757             -0.020846            -0.019902            -0.026009  \n10758             -0.019066            -0.008189            -0.016970  \n10759             -0.008103            -0.004992             0.019187  \n\n[6608 rows x 6 columns]",
      "text/html": "<div>\n<style scoped>\n    .dataframe tbody tr th:only-of-type {\n        vertical-align: middle;\n    }\n\n    .dataframe tbody tr th {\n        vertical-align: top;\n    }\n\n    .dataframe thead th {\n        text-align: right;\n    }\n</style>\n<table border=\"1\" class=\"dataframe\">\n  <thead>\n    <tr style=\"text-align: right;\">\n      <th></th>\n      <th>Date</th>\n      <th>log return 1d - AAPL</th>\n      <th>log return 1d - JPM</th>\n      <th>log return 1d - AMZN</th>\n      <th>log return 1d - DIS</th>\n      <th>log return 1d - XOM</th>\n    </tr>\n  </thead>\n  <tbody>\n    <tr>\n      <th>4152</th>\n      <td>1997-05-15</td>\n      <td>0.000000</td>\n      <td>0.000000</td>\n      <td>0.000000</td>\n      <td>0.000000</td>\n      <td>0.000000</td>\n    </tr>\n    <tr>\n      <th>4153</th>\n      <td>1997-05-16</td>\n      <td>-0.028571</td>\n      <td>-0.036702</td>\n      <td>-0.124461</td>\n      <td>-0.024429</td>\n      <td>-0.012821</td>\n    </tr>\n    <tr>\n      <th>4154</th>\n      <td>1997-05-19</td>\n      <td>-0.014602</td>\n      <td>-0.010738</td>\n      <td>-0.012114</td>\n      <td>0.028943</td>\n      <td>0.017058</td>\n    </tr>\n    <tr>\n      <th>4155</th>\n      <td>1997-05-20</td>\n      <td>0.014602</td>\n      <td>0.040983</td>\n      <td>-0.043622</td>\n      <td>0.002998</td>\n      <td>0.000000</td>\n    </tr>\n    <tr>\n      <th>4156</th>\n      <td>1997-05-21</td>\n      <td>-0.021979</td>\n      <td>-0.035600</td>\n      <td>-0.136269</td>\n      <td>-0.016604</td>\n      <td>0.006322</td>\n    </tr>\n    <tr>\n      <th>...</th>\n      <td>...</td>\n      <td>...</td>\n      <td>...</td>\n      <td>...</td>\n      <td>...</td>\n      <td>...</td>\n    </tr>\n    <tr>\n      <th>10755</th>\n      <td>2023-08-11</td>\n      <td>0.000338</td>\n      <td>0.005779</td>\n      <td>-0.001083</td>\n      <td>-0.030315</td>\n      <td>0.015409</td>\n    </tr>\n    <tr>\n      <th>10756</th>\n      <td>2023-08-14</td>\n      <td>0.009349</td>\n      <td>0.002070</td>\n      <td>0.015485</td>\n      <td>-0.002362</td>\n      <td>0.000804</td>\n    </tr>\n    <tr>\n      <th>10757</th>\n      <td>2023-08-15</td>\n      <td>-0.011264</td>\n      <td>-0.025787</td>\n      <td>-0.020846</td>\n      <td>-0.019902</td>\n      <td>-0.026009</td>\n    </tr>\n    <tr>\n      <th>10758</th>\n      <td>2023-08-16</td>\n      <td>-0.004971</td>\n      <td>-0.004252</td>\n      <td>-0.019066</td>\n      <td>-0.008189</td>\n      <td>-0.016970</td>\n    </tr>\n    <tr>\n      <th>10759</th>\n      <td>2023-08-17</td>\n      <td>-0.014662</td>\n      <td>-0.010441</td>\n      <td>-0.008103</td>\n      <td>-0.004992</td>\n      <td>0.019187</td>\n    </tr>\n  </tbody>\n</table>\n<p>6608 rows × 6 columns</p>\n</div>"
     },
     "execution_count": 5,
     "metadata": {},
     "output_type": "execute_result"
    }
   ],
   "source": [
    "df"
   ],
   "metadata": {
    "collapsed": false,
    "ExecuteTime": {
     "end_time": "2023-09-03T15:02:08.961092600Z",
     "start_time": "2023-09-03T15:02:08.852087800Z"
    }
   },
   "id": "86cb763b8bff70b3"
  },
  {
   "cell_type": "code",
   "execution_count": 6,
   "outputs": [
    {
     "data": {
      "text/plain": "<AxesSubplot:>"
     },
     "execution_count": 6,
     "metadata": {},
     "output_type": "execute_result"
    },
    {
     "data": {
      "text/plain": "<Figure size 640x480 with 1 Axes>",
      "image/png": "[encoded data removed]"
     },
     "metadata": {},
     "output_type": "display_data"
    }
   ],
   "source": [
    "df['log return 1d - AMZN'].hist()"
   ],
   "metadata": {
    "collapsed": false,
    "ExecuteTime": {
     "end_time": "2023-09-03T15:02:09.721976700Z",
     "start_time": "2023-09-03T15:02:08.923081700Z"
    }
   },
   "id": "2f0072d22b69904"
  },
  {
   "cell_type": "code",
   "execution_count": 17,
   "outputs": [
    {
     "name": "stdout",
     "output_type": "stream",
     "text": [
      "[ 0.00000000e+00 -7.16510513e+00 -2.85713254e-02 ... -1.12635187e-02\n",
      " -4.97142423e-03 -1.46621387e-02]\n"
     ]
    }
   ],
   "source": [
    "common_start_date = market.get_common_start_date()\n",
    "common_end_date = market.get_common_end_date()\n",
    "arr = np.array(market['AAPL']['Adj Close'][(market['AAPL']['Date'] >= common_start_date) & (market['AAPL'][\"Date\"] <= common_end_date)])\n",
    "temp = [1]\n",
    "for i in range(len(arr)):\n",
    "    temp.append(arr[i]/arr[i-1])\n",
    "temp = np.log(temp)\n",
    "print(temp)"
   ],
   "metadata": {
    "collapsed": false,
    "ExecuteTime": {
     "end_time": "2023-09-03T14:22:58.597179Z",
     "start_time": "2023-09-03T14:22:58.543776400Z"
    }
   },
   "id": "6f29b7ae96f9e7e7"
  },
  {
   "cell_type": "code",
   "execution_count": 16,
   "outputs": [
    {
     "data": {
      "text/plain": "0          0.099450\n1          0.094261\n2          0.087343\n3          0.089504\n4          0.092099\n            ...    \n10755    177.789993\n10756    179.460007\n10757    177.449997\n10758    176.570007\n10759    174.000000\nName: Adj Close, Length: 10760, dtype: float64"
     },
     "execution_count": 16,
     "metadata": {},
     "output_type": "execute_result"
    }
   ],
   "source": [
    "market['AAPL']['Adj Close']"
   ],
   "metadata": {
    "collapsed": false,
    "ExecuteTime": {
     "end_time": "2023-09-03T14:21:29.708441Z",
     "start_time": "2023-09-03T14:21:29.687284800Z"
    }
   },
   "id": "72f1e687959c3e1b"
  },
  {
   "cell_type": "code",
   "execution_count": 7,
   "outputs": [
    {
     "name": "stdout",
     "output_type": "stream",
     "text": [
      "   temp\n",
      "0   0.0\n",
      "1   0.0\n",
      "2   0.0\n",
      "3   0.0\n",
      "4   0.0\n",
      "5   0.0\n",
      "6   0.0\n",
      "7   0.0\n",
      "8   0.0\n",
      "9   0.0\n"
     ]
    }
   ],
   "source": [
    "teest = np.zeros(10)\n",
    "df2 = pd.DataFrame()\n",
    "df2['temp'] = teest\n",
    "print(df2)"
   ],
   "metadata": {
    "collapsed": false,
    "ExecuteTime": {
     "end_time": "2023-09-03T14:27:14.802324Z",
     "start_time": "2023-09-03T14:27:14.784981200Z"
    }
   },
   "id": "9d92a8c818a8d9ce"
  },
  {
   "cell_type": "code",
   "execution_count": null,
   "outputs": [],
   "source": [],
   "metadata": {
    "collapsed": false
   },
   "id": "db2043a4cd004ae7"
  }
 ],
 "metadata": {
  "kernelspec": {
   "display_name": "Python 3",
   "language": "python",
   "name": "python3"
  },
  "language_info": {
   "codemirror_mode": {
    "name": "ipython",
    "version": 2
   },
   "file_extension": ".py",
   "mimetype": "text/x-python",
   "name": "python",
   "nbconvert_exporter": "python",
   "pygments_lexer": "ipython2",
   "version": "2.7.6"
  }
 },
 "nbformat": 4,
 "nbformat_minor": 5
}
